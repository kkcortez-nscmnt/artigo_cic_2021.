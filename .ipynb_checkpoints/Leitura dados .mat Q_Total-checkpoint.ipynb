{
 "cells": [
  {
   "cell_type": "code",
   "execution_count": 1,
   "id": "bb50da9e",
   "metadata": {},
   "outputs": [],
   "source": [
    "import numpy as np\n",
    "import matplotlib.pyplot as plt\n",
    "import scipy.io as sio\n",
    "import pandas as pd"
   ]
  },
  {
   "cell_type": "markdown",
   "id": "f69e3c14",
   "metadata": {},
   "source": [
    "__13-03-2018__"
   ]
  },
  {
   "cell_type": "code",
   "execution_count": 26,
   "id": "15f5d46e",
   "metadata": {},
   "outputs": [
    {
     "data": {
      "text/plain": [
       "-87.97114694899555"
      ]
     },
     "execution_count": 26,
     "metadata": {},
     "output_type": "execute_result"
    }
   ],
   "source": [
    "#Vazão\n",
    "mat1 = sio.loadmat('20180313181930.mat')\n",
    "Qtotal1 = mat1['Summary']['Total_Q']\n",
    "Qtotal1 = Qtotal1[0][0][-1][0]  # o arquivo .mat retorna um array com array\n",
    "Qtotal1"
   ]
  },
  {
   "cell_type": "code",
   "execution_count": 29,
   "id": "acb9d138",
   "metadata": {},
   "outputs": [
    {
     "data": {
      "text/plain": [
       "-73.92925087387641"
      ]
     },
     "execution_count": 29,
     "metadata": {},
     "output_type": "execute_result"
    }
   ],
   "source": [
    "mat2 = sio.loadmat('20180313181707.mat')\n",
    "Qtotal2 = mat2['Summary']['Total_Q']\n",
    "Qtotal2 = Qtotal2[0][0][-1][0]\n",
    "Qtotal2"
   ]
  },
  {
   "cell_type": "code",
   "execution_count": 38,
   "id": "8fcc8050",
   "metadata": {},
   "outputs": [
    {
     "data": {
      "text/plain": [
       "-83.67300452795446"
      ]
     },
     "execution_count": 38,
     "metadata": {},
     "output_type": "execute_result"
    }
   ],
   "source": [
    "mat3 = sio.loadmat('20180313181429.mat')\n",
    "Qtotal3 = mat3['Summary']['Total_Q']\n",
    "Qtotal3 = Qtotal3[0][0][-1][0]\n",
    "Qtotal3"
   ]
  },
  {
   "cell_type": "code",
   "execution_count": 37,
   "id": "e107e6e1",
   "metadata": {},
   "outputs": [
    {
     "data": {
      "text/plain": [
       "-76.0222815110586"
      ]
     },
     "execution_count": 37,
     "metadata": {},
     "output_type": "execute_result"
    }
   ],
   "source": [
    "mat4 = sio.loadmat('20180313181118.mat')\n",
    "Qtotal4 = mat4['Summary']['Total_Q']\n",
    "Qtotal4 = Qtotal4[0][0][-1][0]\n",
    "Qtotal4"
   ]
  },
  {
   "cell_type": "markdown",
   "id": "ea652a89",
   "metadata": {},
   "source": [
    "__21-03-2018__"
   ]
  },
  {
   "cell_type": "code",
   "execution_count": 44,
   "id": "3c61984c",
   "metadata": {},
   "outputs": [
    {
     "data": {
      "text/plain": [
       "373.0653631920499"
      ]
     },
     "execution_count": 44,
     "metadata": {},
     "output_type": "execute_result"
    }
   ],
   "source": [
    "mat5 = sio.loadmat('HS_SL_SG_02/2018_03_21/20180321150041.mat')\n",
    "Qtotal5 = mat5['Summary']['Total_Q']\n",
    "Qtotal5 = Qtotal5[0][0][-1][0]\n",
    "Qtotal5"
   ]
  },
  {
   "cell_type": "code",
   "execution_count": 45,
   "id": "f8e1d5af",
   "metadata": {},
   "outputs": [
    {
     "data": {
      "text/plain": [
       "378.53508877765006"
      ]
     },
     "execution_count": 45,
     "metadata": {},
     "output_type": "execute_result"
    }
   ],
   "source": [
    "mat6 = sio.loadmat('HS_SL_SG_02/2018_03_21/20180321145724.mat')\n",
    "Qtotal6 = mat6['Summary']['Total_Q']\n",
    "Qtotal6 = Qtotal6[0][0][-1][0]\n",
    "Qtotal6"
   ]
  },
  {
   "cell_type": "code",
   "execution_count": 46,
   "id": "eb4a238c",
   "metadata": {},
   "outputs": [
    {
     "data": {
      "text/plain": [
       "382.31440661464234"
      ]
     },
     "execution_count": 46,
     "metadata": {},
     "output_type": "execute_result"
    }
   ],
   "source": [
    "mat7 = sio.loadmat('HS_SL_SG_02/2018_03_21/20180321145448.mat')\n",
    "Qtotal7 = mat7['Summary']['Total_Q']\n",
    "Qtotal7 = Qtotal7[0][0][-1][0]\n",
    "Qtotal7"
   ]
  },
  {
   "cell_type": "code",
   "execution_count": 48,
   "id": "941cc753",
   "metadata": {},
   "outputs": [
    {
     "data": {
      "text/plain": [
       "364.3839515895404"
      ]
     },
     "execution_count": 48,
     "metadata": {},
     "output_type": "execute_result"
    }
   ],
   "source": [
    "mat8 = sio.loadmat('HS_SL_SG_02/2018_03_21/20180321145039.mat')\n",
    "Qtotal8 = mat8['Summary']['Total_Q']\n",
    "Qtotal8 = Qtotal8[0][0][-1][0]\n",
    "Qtotal8"
   ]
  },
  {
   "cell_type": "code",
   "execution_count": 49,
   "id": "14a012c4",
   "metadata": {},
   "outputs": [
    {
     "data": {
      "text/plain": [
       "230.70164021849246"
      ]
     },
     "execution_count": 49,
     "metadata": {},
     "output_type": "execute_result"
    }
   ],
   "source": [
    "mat9 = sio.loadmat('HS_SL_SG_02/2018_03_21/20180321112601.mat')\n",
    "Qtotal9 = mat9['Summary']['Total_Q']\n",
    "Qtotal9 = Qtotal9[0][0][-1][0]\n",
    "Qtotal9"
   ]
  },
  {
   "cell_type": "code",
   "execution_count": 50,
   "id": "753dd115",
   "metadata": {},
   "outputs": [
    {
     "data": {
      "text/plain": [
       "225.68695083667708"
      ]
     },
     "execution_count": 50,
     "metadata": {},
     "output_type": "execute_result"
    }
   ],
   "source": [
    "mat10 = sio.loadmat('HS_SL_SG_02/2018_03_21/20180321112236.mat')\n",
    "Qtotal10 = mat10['Summary']['Total_Q']\n",
    "Qtotal10 = Qtotal10[0][0][-1][0]\n",
    "Qtotal10"
   ]
  },
  {
   "cell_type": "code",
   "execution_count": 51,
   "id": "9d3f7a65",
   "metadata": {},
   "outputs": [
    {
     "data": {
      "text/plain": [
       "217.80981909790518"
      ]
     },
     "execution_count": 51,
     "metadata": {},
     "output_type": "execute_result"
    }
   ],
   "source": [
    "mat11 = sio.loadmat('HS_SL_SG_02/2018_03_21/20180321111953.mat')\n",
    "Qtotal11 = mat11['Summary']['Total_Q']\n",
    "Qtotal11 = Qtotal11[0][0][-1][0]\n",
    "Qtotal11"
   ]
  },
  {
   "cell_type": "code",
   "execution_count": 52,
   "id": "e45d427f",
   "metadata": {},
   "outputs": [
    {
     "data": {
      "text/plain": [
       "211.26799466016314"
      ]
     },
     "execution_count": 52,
     "metadata": {},
     "output_type": "execute_result"
    }
   ],
   "source": [
    "mat12 = sio.loadmat('HS_SL_SG_02/2018_03_21/20180321111405.mat')\n",
    "Qtotal12 = mat12['Summary']['Total_Q']\n",
    "Qtotal12 = Qtotal12[0][0][-1][0]\n",
    "Qtotal12"
   ]
  },
  {
   "cell_type": "markdown",
   "id": "5c5a8905",
   "metadata": {},
   "source": [
    "__04-04-2018__"
   ]
  },
  {
   "cell_type": "code",
   "execution_count": 59,
   "id": "bb98f5f9",
   "metadata": {},
   "outputs": [
    {
     "data": {
      "text/plain": [
       "22.386850700594643"
      ]
     },
     "execution_count": 59,
     "metadata": {},
     "output_type": "execute_result"
    }
   ],
   "source": [
    "mat13 = sio.loadmat('HS_SL_SG_02/2018_04_04/20180404154241.mat')\n",
    "Qtotal13 = mat13['Summary']['Total_Q']\n",
    "Qtotal13 = Qtotal13[0][0][-1][0]\n",
    "Qtotal13"
   ]
  },
  {
   "cell_type": "code",
   "execution_count": 60,
   "id": "814a290f",
   "metadata": {},
   "outputs": [
    {
     "data": {
      "text/plain": [
       "27.26028414233541"
      ]
     },
     "execution_count": 60,
     "metadata": {},
     "output_type": "execute_result"
    }
   ],
   "source": [
    "mat14 = sio.loadmat('HS_SL_SG_02/2018_04_04/20180404154610.mat')\n",
    "Qtotal14 = mat14['Summary']['Total_Q']\n",
    "Qtotal14 = Qtotal14[0][0][-1][0]\n",
    "Qtotal14"
   ]
  },
  {
   "cell_type": "code",
   "execution_count": 62,
   "id": "1eb549e4",
   "metadata": {},
   "outputs": [
    {
     "data": {
      "text/plain": [
       "34.041482513449026"
      ]
     },
     "execution_count": 62,
     "metadata": {},
     "output_type": "execute_result"
    }
   ],
   "source": [
    "mat15 = sio.loadmat('HS_SL_SG_02/2018_04_04/20180404154929.mat')\n",
    "Qtotal15 = mat15['Summary']['Total_Q']\n",
    "Qtotal15 = Qtotal15[0][0][-1][0]\n",
    "Qtotal15"
   ]
  },
  {
   "cell_type": "code",
   "execution_count": 63,
   "id": "1b119165",
   "metadata": {},
   "outputs": [
    {
     "data": {
      "text/plain": [
       "21.598649322449276"
      ]
     },
     "execution_count": 63,
     "metadata": {},
     "output_type": "execute_result"
    }
   ],
   "source": [
    "mat16 = sio.loadmat('HS_SL_SG_02/2018_04_04/20180404155232.mat')\n",
    "Qtotal16 = mat16['Summary']['Total_Q']\n",
    "Qtotal16 = Qtotal16[0][0][-1][0]\n",
    "Qtotal16"
   ]
  },
  {
   "cell_type": "markdown",
   "id": "b6faf45e",
   "metadata": {},
   "source": [
    "__11-04-2018 Manhã__"
   ]
  },
  {
   "cell_type": "code",
   "execution_count": 66,
   "id": "70842199",
   "metadata": {},
   "outputs": [
    {
     "data": {
      "text/plain": [
       "0.5990955312758595"
      ]
     },
     "execution_count": 66,
     "metadata": {},
     "output_type": "execute_result"
    }
   ],
   "source": [
    "mat17 = sio.loadmat('HS_SL_SG_02/2018_04_11/20180411113018.mat')\n",
    "Qtotal17 = mat17['Summary']['Total_Q']\n",
    "Qtotal17 = Qtotal17[0][0][-1][0]\n",
    "Qtotal17"
   ]
  },
  {
   "cell_type": "code",
   "execution_count": 68,
   "id": "5452ca5d",
   "metadata": {},
   "outputs": [
    {
     "data": {
      "text/plain": [
       "-4.02168565763181"
      ]
     },
     "execution_count": 68,
     "metadata": {},
     "output_type": "execute_result"
    }
   ],
   "source": [
    "mat18 = sio.loadmat('HS_SL_SG_02/2018_04_11/20180411113434.mat')\n",
    "Qtotal18 = mat18['Summary']['Total_Q']\n",
    "Qtotal18 = Qtotal18[0][0][-1][0]\n",
    "Qtotal18"
   ]
  },
  {
   "cell_type": "code",
   "execution_count": 69,
   "id": "219d8888",
   "metadata": {},
   "outputs": [
    {
     "data": {
      "text/plain": [
       "-3.7487569051645506"
      ]
     },
     "execution_count": 69,
     "metadata": {},
     "output_type": "execute_result"
    }
   ],
   "source": [
    "mat19 = sio.loadmat('HS_SL_SG_02/2018_04_11/20180411113744.mat')\n",
    "Qtotal19 = mat19['Summary']['Total_Q']\n",
    "Qtotal19 = Qtotal19[0][0][-1][0]\n",
    "Qtotal19"
   ]
  },
  {
   "cell_type": "code",
   "execution_count": 70,
   "id": "31cd7dd1",
   "metadata": {},
   "outputs": [
    {
     "data": {
      "text/plain": [
       "-3.685385253899642"
      ]
     },
     "execution_count": 70,
     "metadata": {},
     "output_type": "execute_result"
    }
   ],
   "source": [
    "mat20 = sio.loadmat('HS_SL_SG_02/2018_04_11/20180411114102.mat')\n",
    "Qtotal20 = mat20['Summary']['Total_Q']\n",
    "Qtotal20 = Qtotal20[0][0][-1][0]\n",
    "Qtotal20"
   ]
  },
  {
   "cell_type": "markdown",
   "id": "5477db78",
   "metadata": {},
   "source": [
    "__11-04-2018 Tarde__"
   ]
  },
  {
   "cell_type": "code",
   "execution_count": 71,
   "id": "c33d0152",
   "metadata": {},
   "outputs": [
    {
     "data": {
      "text/plain": [
       "93.98692451912147"
      ]
     },
     "execution_count": 71,
     "metadata": {},
     "output_type": "execute_result"
    }
   ],
   "source": [
    "mat21 = sio.loadmat('HS_SL_SG_02/2018_04_11/20180411170601.mat')\n",
    "Qtotal21 = mat21['Summary']['Total_Q']\n",
    "Qtotal21 = Qtotal21[0][0][-1][0]\n",
    "Qtotal21"
   ]
  },
  {
   "cell_type": "code",
   "execution_count": 72,
   "id": "30484c7b",
   "metadata": {},
   "outputs": [
    {
     "data": {
      "text/plain": [
       "86.0847185461971"
      ]
     },
     "execution_count": 72,
     "metadata": {},
     "output_type": "execute_result"
    }
   ],
   "source": [
    "mat22 = sio.loadmat('HS_SL_SG_02/2018_04_11/20180411170841.mat')\n",
    "Qtotal22 = mat22['Summary']['Total_Q']\n",
    "Qtotal22 = Qtotal22[0][0][-1][0]\n",
    "Qtotal22"
   ]
  },
  {
   "cell_type": "code",
   "execution_count": 73,
   "id": "f43448e4",
   "metadata": {},
   "outputs": [
    {
     "data": {
      "text/plain": [
       "98.89271596223216"
      ]
     },
     "execution_count": 73,
     "metadata": {},
     "output_type": "execute_result"
    }
   ],
   "source": [
    "mat23 = sio.loadmat('HS_SL_SG_02/2018_04_11/20180411171148.mat')\n",
    "Qtotal23 = mat23['Summary']['Total_Q']\n",
    "Qtotal23 = Qtotal23[0][0][-1][0]\n",
    "Qtotal23"
   ]
  },
  {
   "cell_type": "code",
   "execution_count": 74,
   "id": "4a3833b6",
   "metadata": {},
   "outputs": [
    {
     "data": {
      "text/plain": [
       "90.99841208826251"
      ]
     },
     "execution_count": 74,
     "metadata": {},
     "output_type": "execute_result"
    }
   ],
   "source": [
    "mat24 = sio.loadmat('HS_SL_SG_02/2018_04_11/20180411171432.mat')\n",
    "Qtotal24 = mat24['Summary']['Total_Q']\n",
    "Qtotal24 = Qtotal24[0][0][-1][0]\n",
    "Qtotal24"
   ]
  },
  {
   "cell_type": "markdown",
   "id": "d747daca",
   "metadata": {},
   "source": [
    "__17-04-2018__"
   ]
  },
  {
   "cell_type": "code",
   "execution_count": 76,
   "id": "1fb08126",
   "metadata": {},
   "outputs": [
    {
     "data": {
      "text/plain": [
       "-54.66976817942759"
      ]
     },
     "execution_count": 76,
     "metadata": {},
     "output_type": "execute_result"
    }
   ],
   "source": [
    "mat25 = sio.loadmat('HS_SL_SG_02/2018_04_17/20180417110001.mat')\n",
    "Qtotal25 = mat25['Summary']['Total_Q']\n",
    "Qtotal25 = Qtotal25[0][0][-1][0]\n",
    "Qtotal25"
   ]
  },
  {
   "cell_type": "code",
   "execution_count": 77,
   "id": "092fb001",
   "metadata": {},
   "outputs": [
    {
     "data": {
      "text/plain": [
       "-46.28469028990669"
      ]
     },
     "execution_count": 77,
     "metadata": {},
     "output_type": "execute_result"
    }
   ],
   "source": [
    "mat26 = sio.loadmat('HS_SL_SG_02/2018_04_17/20180417110341.mat')\n",
    "Qtotal26 = mat26['Summary']['Total_Q']\n",
    "Qtotal26 = Qtotal26[0][0][-1][0]\n",
    "Qtotal26"
   ]
  },
  {
   "cell_type": "code",
   "execution_count": 79,
   "id": "60d2e9ef",
   "metadata": {},
   "outputs": [
    {
     "data": {
      "text/plain": [
       "-56.918927311000516"
      ]
     },
     "execution_count": 79,
     "metadata": {},
     "output_type": "execute_result"
    }
   ],
   "source": [
    "mat27 = sio.loadmat('HS_SL_SG_02/2018_04_17/20180417110646.mat')\n",
    "Qtotal27 = mat27['Summary']['Total_Q']\n",
    "Qtotal27 = Qtotal27[0][0][-1][0]\n",
    "Qtotal27"
   ]
  },
  {
   "cell_type": "code",
   "execution_count": 81,
   "id": "63f593ba",
   "metadata": {},
   "outputs": [
    {
     "data": {
      "text/plain": [
       "-32.310595805557995"
      ]
     },
     "execution_count": 81,
     "metadata": {},
     "output_type": "execute_result"
    }
   ],
   "source": [
    "mat28 = sio.loadmat('HS_SL_SG_02/2018_04_17/20180417110938.mat')\n",
    "Qtotal28 = mat28['Summary']['Total_Q']\n",
    "Qtotal28 = Qtotal28[0][0][-1][0]\n",
    "Qtotal28"
   ]
  },
  {
   "cell_type": "code",
   "execution_count": 82,
   "id": "2d9b4bc2",
   "metadata": {},
   "outputs": [
    {
     "data": {
      "text/plain": [
       "-30.07515428095175"
      ]
     },
     "execution_count": 82,
     "metadata": {},
     "output_type": "execute_result"
    }
   ],
   "source": [
    "mat29 = sio.loadmat('HS_SL_SG_02/2018_04_17/20180417111347.mat')\n",
    "Qtotal29 = mat29['Summary']['Total_Q']\n",
    "Qtotal29 = Qtotal29[0][0][-1][0]\n",
    "Qtotal29"
   ]
  },
  {
   "cell_type": "code",
   "execution_count": 83,
   "id": "707df3b9",
   "metadata": {},
   "outputs": [
    {
     "data": {
      "text/plain": [
       "-35.92384806896414"
      ]
     },
     "execution_count": 83,
     "metadata": {},
     "output_type": "execute_result"
    }
   ],
   "source": [
    "mat30 = sio.loadmat('HS_SL_SG_02/2018_04_17/20180417111630.mat')\n",
    "Qtotal30 = mat30['Summary']['Total_Q']\n",
    "Qtotal30 = Qtotal30[0][0][-1][0]\n",
    "Qtotal30"
   ]
  },
  {
   "cell_type": "markdown",
   "id": "d80204d6",
   "metadata": {},
   "source": [
    "__08_05_2018 Manhã__"
   ]
  },
  {
   "cell_type": "code",
   "execution_count": 90,
   "id": "72b2cbbc",
   "metadata": {},
   "outputs": [
    {
     "data": {
      "text/plain": [
       "-263.3840077032929"
      ]
     },
     "execution_count": 90,
     "metadata": {},
     "output_type": "execute_result"
    }
   ],
   "source": [
    "mat31 = sio.loadmat('HS_SL_SG_02/2018_05_08/20180508115404.mat')\n",
    "Qtotal31 = mat31['Summary']['Total_Q']\n",
    "Qtotal31 = Qtotal31[0][0][-1][0]\n",
    "Qtotal31"
   ]
  },
  {
   "cell_type": "code",
   "execution_count": 94,
   "id": "a117e369",
   "metadata": {},
   "outputs": [
    {
     "data": {
      "text/plain": [
       "-262.0432058733672"
      ]
     },
     "execution_count": 94,
     "metadata": {},
     "output_type": "execute_result"
    }
   ],
   "source": [
    "mat32 = sio.loadmat('HS_SL_SG_02/2018_05_08/20180508120713.mat')\n",
    "Qtotal32 = mat32['Summary']['Total_Q']\n",
    "Qtotal32 = Qtotal32[0][0][-1][0]\n",
    "Qtotal32"
   ]
  },
  {
   "cell_type": "code",
   "execution_count": 97,
   "id": "0b3be839",
   "metadata": {},
   "outputs": [
    {
     "data": {
      "text/plain": [
       "-257.37275042603164"
      ]
     },
     "execution_count": 97,
     "metadata": {},
     "output_type": "execute_result"
    }
   ],
   "source": [
    "mat33 = sio.loadmat('HS_SL_SG_02/2018_05_08/20180508121140.mat')\n",
    "Qtotal33 = mat33['Summary']['Total_Q']\n",
    "Qtotal33 = Qtotal33[0][0][-1][0]\n",
    "Qtotal33"
   ]
  },
  {
   "cell_type": "code",
   "execution_count": 98,
   "id": "d62af249",
   "metadata": {},
   "outputs": [
    {
     "data": {
      "text/plain": [
       "-282.8476205967087"
      ]
     },
     "execution_count": 98,
     "metadata": {},
     "output_type": "execute_result"
    }
   ],
   "source": [
    "mat34 = sio.loadmat('HS_SL_SG_02/2018_05_08/20180508121521.mat')\n",
    "Qtotal34 = mat34['Summary']['Total_Q']\n",
    "Qtotal34 = Qtotal34[0][0][-1][0]\n",
    "Qtotal34"
   ]
  },
  {
   "cell_type": "code",
   "execution_count": 100,
   "id": "21551b0e",
   "metadata": {},
   "outputs": [
    {
     "data": {
      "text/plain": [
       "-272.99945854401324"
      ]
     },
     "execution_count": 100,
     "metadata": {},
     "output_type": "execute_result"
    }
   ],
   "source": [
    "mat35 = sio.loadmat('HS_SL_SG_02/2018_05_08/20180508121908.mat')\n",
    "Qtotal35 = mat35['Summary']['Total_Q']\n",
    "Qtotal35 = Qtotal35[0][0][-1][0]\n",
    "Qtotal35"
   ]
  },
  {
   "cell_type": "code",
   "execution_count": 103,
   "id": "f53e9828",
   "metadata": {},
   "outputs": [
    {
     "data": {
      "text/plain": [
       "-257.1328321902306"
      ]
     },
     "execution_count": 103,
     "metadata": {},
     "output_type": "execute_result"
    }
   ],
   "source": [
    "mat36 = sio.loadmat('HS_SL_SG_02/2018_05_08/20180508122233.mat')\n",
    "Qtotal36 = mat36['Summary']['Total_Q']\n",
    "Qtotal36 = Qtotal36[0][0][-1][0]\n",
    "Qtotal36"
   ]
  },
  {
   "cell_type": "markdown",
   "id": "ef76e3c3",
   "metadata": {},
   "source": [
    "__08-05-2018 Tarde__"
   ]
  },
  {
   "cell_type": "code",
   "execution_count": 105,
   "id": "85787193",
   "metadata": {},
   "outputs": [
    {
     "data": {
      "text/plain": [
       "-137.9044810407422"
      ]
     },
     "execution_count": 105,
     "metadata": {},
     "output_type": "execute_result"
    }
   ],
   "source": [
    "mat37 = sio.loadmat('HS_SL_SG_02/2018_05_08/20180508161606.mat')\n",
    "Qtotal37 = mat37['Summary']['Total_Q']\n",
    "Qtotal37 = Qtotal37[0][0][-1][0]\n",
    "Qtotal37"
   ]
  },
  {
   "cell_type": "code",
   "execution_count": 108,
   "id": "97aeeb4b",
   "metadata": {},
   "outputs": [
    {
     "data": {
      "text/plain": [
       "-127.16773896720818"
      ]
     },
     "execution_count": 108,
     "metadata": {},
     "output_type": "execute_result"
    }
   ],
   "source": [
    "mat38 = sio.loadmat('HS_SL_SG_02/2018_05_08/20180508162040.mat')\n",
    "Qtotal38 = mat38['Summary']['Total_Q']\n",
    "Qtotal38 = Qtotal38[0][0][-1][0]\n",
    "Qtotal38"
   ]
  },
  {
   "cell_type": "code",
   "execution_count": 109,
   "id": "12beec0f",
   "metadata": {},
   "outputs": [
    {
     "data": {
      "text/plain": [
       "-101.63179691039532"
      ]
     },
     "execution_count": 109,
     "metadata": {},
     "output_type": "execute_result"
    }
   ],
   "source": [
    "mat39 = sio.loadmat('HS_SL_SG_02/2018_05_08/20180508162414.mat')\n",
    "Qtotal39 = mat39['Summary']['Total_Q']\n",
    "Qtotal39 = Qtotal39[0][0][-1][0]\n",
    "Qtotal39"
   ]
  },
  {
   "cell_type": "code",
   "execution_count": 110,
   "id": "1414b53c",
   "metadata": {},
   "outputs": [
    {
     "data": {
      "text/plain": [
       "-109.66509407665862"
      ]
     },
     "execution_count": 110,
     "metadata": {},
     "output_type": "execute_result"
    }
   ],
   "source": [
    "mat40 = sio.loadmat('HS_SL_SG_02/2018_05_08/20180508162719.mat')\n",
    "Qtotal40 = mat40['Summary']['Total_Q']\n",
    "Qtotal40 = Qtotal40[0][0][-1][0]\n",
    "Qtotal40"
   ]
  },
  {
   "cell_type": "code",
   "execution_count": 112,
   "id": "ecc3244c",
   "metadata": {},
   "outputs": [
    {
     "data": {
      "text/plain": [
       "-86.19666732898497"
      ]
     },
     "execution_count": 112,
     "metadata": {},
     "output_type": "execute_result"
    }
   ],
   "source": [
    "mat41 = sio.loadmat('HS_SL_SG_02/2018_05_08/20180508163203.mat')\n",
    "Qtotal41 = mat41['Summary']['Total_Q']\n",
    "Qtotal41 = Qtotal41[0][0][-1][0]\n",
    "Qtotal41"
   ]
  },
  {
   "cell_type": "code",
   "execution_count": 113,
   "id": "8c383edd",
   "metadata": {},
   "outputs": [
    {
     "data": {
      "text/plain": [
       "-82.36199246290988"
      ]
     },
     "execution_count": 113,
     "metadata": {},
     "output_type": "execute_result"
    }
   ],
   "source": [
    "mat42 = sio.loadmat('HS_SL_SG_02/2018_05_08/20180508163529.mat')\n",
    "Qtotal42 = mat42['Summary']['Total_Q']\n",
    "Qtotal42 = Qtotal42[0][0][-1][0]\n",
    "Qtotal42"
   ]
  },
  {
   "cell_type": "markdown",
   "id": "e9b8b0bf",
   "metadata": {},
   "source": [
    "__23-05-2018 Manhã__"
   ]
  },
  {
   "cell_type": "code",
   "execution_count": 115,
   "id": "a5595f85",
   "metadata": {},
   "outputs": [
    {
     "data": {
      "text/plain": [
       "31.849061020342326"
      ]
     },
     "execution_count": 115,
     "metadata": {},
     "output_type": "execute_result"
    }
   ],
   "source": [
    "mat43 = sio.loadmat('HS_SL_SG_02/2018_05_23/20180523114300.mat')\n",
    "Qtotal43 = mat43['Summary']['Total_Q']\n",
    "Qtotal43 = Qtotal43[0][0][-1][0]\n",
    "Qtotal43"
   ]
  },
  {
   "cell_type": "code",
   "execution_count": 116,
   "id": "803b50d3",
   "metadata": {},
   "outputs": [
    {
     "data": {
      "text/plain": [
       "2.4495365312641444"
      ]
     },
     "execution_count": 116,
     "metadata": {},
     "output_type": "execute_result"
    }
   ],
   "source": [
    "mat44 = sio.loadmat('HS_SL_SG_02/2018_05_23/20180523114601.mat')\n",
    "Qtotal44 = mat44['Summary']['Total_Q']\n",
    "Qtotal44 = Qtotal44[0][0][-1][0]\n",
    "Qtotal44"
   ]
  },
  {
   "cell_type": "code",
   "execution_count": 119,
   "id": "6508ad11",
   "metadata": {},
   "outputs": [
    {
     "data": {
      "text/plain": [
       "65.21881802607604"
      ]
     },
     "execution_count": 119,
     "metadata": {},
     "output_type": "execute_result"
    }
   ],
   "source": [
    "mat45 = sio.loadmat('HS_SL_SG_02/2018_05_23/20180523114952.mat')\n",
    "Qtotal45 = mat45['Summary']['Total_Q']\n",
    "Qtotal45 = Qtotal45[0][0][-1][0]\n",
    "Qtotal45"
   ]
  },
  {
   "cell_type": "code",
   "execution_count": 121,
   "id": "26ac2ff4",
   "metadata": {},
   "outputs": [
    {
     "data": {
      "text/plain": [
       "31.608397311418145"
      ]
     },
     "execution_count": 121,
     "metadata": {},
     "output_type": "execute_result"
    }
   ],
   "source": [
    "mat46 = sio.loadmat('HS_SL_SG_02/2018_05_23/20180523115245.mat')\n",
    "Qtotal46 = mat46['Summary']['Total_Q']\n",
    "Qtotal46 = Qtotal46[0][0][-1][0]\n",
    "Qtotal46"
   ]
  },
  {
   "cell_type": "code",
   "execution_count": 122,
   "id": "1536d84f",
   "metadata": {},
   "outputs": [
    {
     "data": {
      "text/plain": [
       "80.63658634774332"
      ]
     },
     "execution_count": 122,
     "metadata": {},
     "output_type": "execute_result"
    }
   ],
   "source": [
    "mat47 = sio.loadmat('HS_SL_SG_02/2018_05_23/20180523115544.mat')\n",
    "Qtotal47 = mat47['Summary']['Total_Q']\n",
    "Qtotal47 = Qtotal47[0][0][-1][0]\n",
    "Qtotal47"
   ]
  },
  {
   "cell_type": "code",
   "execution_count": 124,
   "id": "39e26402",
   "metadata": {},
   "outputs": [
    {
     "data": {
      "text/plain": [
       "61.33438496526193"
      ]
     },
     "execution_count": 124,
     "metadata": {},
     "output_type": "execute_result"
    }
   ],
   "source": [
    "mat48 = sio.loadmat('HS_SL_SG_02/2018_05_23/20180523115842.mat')\n",
    "Qtotal48 = mat48['Summary']['Total_Q']\n",
    "Qtotal48 = Qtotal48[0][0][-1][0]\n",
    "Qtotal48"
   ]
  },
  {
   "cell_type": "code",
   "execution_count": 125,
   "id": "5c9aa875",
   "metadata": {},
   "outputs": [
    {
     "data": {
      "text/plain": [
       "77.39247853424597"
      ]
     },
     "execution_count": 125,
     "metadata": {},
     "output_type": "execute_result"
    }
   ],
   "source": [
    "mat49 = sio.loadmat('HS_SL_SG_02/2018_05_23/20180523120131.mat')\n",
    "Qtotal49 = mat49['Summary']['Total_Q']\n",
    "Qtotal49 = Qtotal49[0][0][-1][0]\n",
    "Qtotal49"
   ]
  },
  {
   "cell_type": "code",
   "execution_count": 126,
   "id": "ad85f7f0",
   "metadata": {},
   "outputs": [
    {
     "data": {
      "text/plain": [
       "93.83749160188431"
      ]
     },
     "execution_count": 126,
     "metadata": {},
     "output_type": "execute_result"
    }
   ],
   "source": [
    "mat50 = sio.loadmat('HS_SL_SG_02/2018_05_23/20180523120537.mat')\n",
    "Qtotal50 = mat50['Summary']['Total_Q']\n",
    "Qtotal50 = Qtotal50[0][0][-1][0]\n",
    "Qtotal50"
   ]
  },
  {
   "cell_type": "markdown",
   "id": "754a779d",
   "metadata": {},
   "source": [
    "__23-05-2018 Tarde__"
   ]
  },
  {
   "cell_type": "code",
   "execution_count": 127,
   "id": "c243eae6",
   "metadata": {},
   "outputs": [
    {
     "data": {
      "text/plain": [
       "86.71908503915384"
      ]
     },
     "execution_count": 127,
     "metadata": {},
     "output_type": "execute_result"
    }
   ],
   "source": [
    "mat51 = sio.loadmat('HS_SL_SG_02/2018_05_23/20180523163842.mat')\n",
    "Qtotal51 = mat51['Summary']['Total_Q']\n",
    "Qtotal51 = Qtotal51[0][0][-1][0]\n",
    "Qtotal51"
   ]
  },
  {
   "cell_type": "code",
   "execution_count": 128,
   "id": "303ce95d",
   "metadata": {},
   "outputs": [
    {
     "data": {
      "text/plain": [
       "81.8181301869476"
      ]
     },
     "execution_count": 128,
     "metadata": {},
     "output_type": "execute_result"
    }
   ],
   "source": [
    "mat52 = sio.loadmat('HS_SL_SG_02/2018_05_23/20180523164123.mat')\n",
    "Qtotal52 = mat52['Summary']['Total_Q']\n",
    "Qtotal52 = Qtotal52[0][0][-1][0]\n",
    "Qtotal52"
   ]
  },
  {
   "cell_type": "code",
   "execution_count": 129,
   "id": "72cad104",
   "metadata": {},
   "outputs": [
    {
     "data": {
      "text/plain": [
       "77.53456172408704"
      ]
     },
     "execution_count": 129,
     "metadata": {},
     "output_type": "execute_result"
    }
   ],
   "source": [
    "mat53 = sio.loadmat('HS_SL_SG_02/2018_05_23/20180523164341.mat')\n",
    "Qtotal53 = mat53['Summary']['Total_Q']\n",
    "Qtotal53 = Qtotal53[0][0][-1][0]\n",
    "Qtotal53"
   ]
  },
  {
   "cell_type": "code",
   "execution_count": 130,
   "id": "bd1ac0ae",
   "metadata": {},
   "outputs": [
    {
     "data": {
      "text/plain": [
       "85.71550654865707"
      ]
     },
     "execution_count": 130,
     "metadata": {},
     "output_type": "execute_result"
    }
   ],
   "source": [
    "mat54 = sio.loadmat('HS_SL_SG_02/2018_05_23/20180523164616.mat')\n",
    "Qtotal54 = mat54['Summary']['Total_Q']\n",
    "Qtotal54 = Qtotal54[0][0][-1][0]\n",
    "Qtotal54"
   ]
  },
  {
   "cell_type": "markdown",
   "id": "ceabdc26",
   "metadata": {},
   "source": [
    "__06-06-2018__"
   ]
  },
  {
   "cell_type": "code",
   "execution_count": 131,
   "id": "aadc5285",
   "metadata": {},
   "outputs": [
    {
     "data": {
      "text/plain": [
       "338.72539603968954"
      ]
     },
     "execution_count": 131,
     "metadata": {},
     "output_type": "execute_result"
    }
   ],
   "source": [
    "mat55 = sio.loadmat('HS_SL_SG_02/2018_06_06/20180606123412.mat')\n",
    "Qtotal55 = mat55['Summary']['Total_Q']\n",
    "Qtotal55 = Qtotal55[0][0][-1][0]\n",
    "Qtotal55"
   ]
  },
  {
   "cell_type": "code",
   "execution_count": 133,
   "id": "f7091a4c",
   "metadata": {},
   "outputs": [
    {
     "data": {
      "text/plain": [
       "333.676621148832"
      ]
     },
     "execution_count": 133,
     "metadata": {},
     "output_type": "execute_result"
    }
   ],
   "source": [
    "mat56 = sio.loadmat('HS_SL_SG_02/2018_06_06/20180606123731.mat')\n",
    "Qtotal56 = mat56['Summary']['Total_Q']\n",
    "Qtotal56 = Qtotal56[0][0][-1][0]\n",
    "Qtotal56"
   ]
  },
  {
   "cell_type": "code",
   "execution_count": 135,
   "id": "e277302c",
   "metadata": {},
   "outputs": [
    {
     "data": {
      "text/plain": [
       "330.3678681249617"
      ]
     },
     "execution_count": 135,
     "metadata": {},
     "output_type": "execute_result"
    }
   ],
   "source": [
    "mat57 = sio.loadmat('HS_SL_SG_02/2018_06_06/20180606124029.mat')\n",
    "Qtotal57 = mat57['Summary']['Total_Q']\n",
    "Qtotal57 = Qtotal57[0][0][-1][0]\n",
    "Qtotal57"
   ]
  },
  {
   "cell_type": "code",
   "execution_count": 136,
   "id": "49ce9a7f",
   "metadata": {},
   "outputs": [
    {
     "data": {
      "text/plain": [
       "326.32462840352343"
      ]
     },
     "execution_count": 136,
     "metadata": {},
     "output_type": "execute_result"
    }
   ],
   "source": [
    "mat58 = sio.loadmat('HS_SL_SG_02/2018_06_06/20180606124337.mat')\n",
    "Qtotal58 = mat58['Summary']['Total_Q']\n",
    "Qtotal58 = Qtotal58[0][0][-1][0]\n",
    "Qtotal58"
   ]
  },
  {
   "cell_type": "markdown",
   "id": "aaf7c35c",
   "metadata": {},
   "source": [
    "__12-06-2019__"
   ]
  },
  {
   "cell_type": "code",
   "execution_count": 138,
   "id": "d7074db3",
   "metadata": {},
   "outputs": [
    {
     "data": {
      "text/plain": [
       "117.9154021774494"
      ]
     },
     "execution_count": 138,
     "metadata": {},
     "output_type": "execute_result"
    }
   ],
   "source": [
    "mat59 = sio.loadmat('HS_SL_SG_02/2019_06_12/20190612143845.mat')\n",
    "Qtotal59 = mat59['Summary']['Total_Q']\n",
    "Qtotal59 = Qtotal59[0][0][-1][0]\n",
    "Qtotal59"
   ]
  },
  {
   "cell_type": "code",
   "execution_count": 139,
   "id": "af9899e9",
   "metadata": {},
   "outputs": [
    {
     "data": {
      "text/plain": [
       "127.27653703651285"
      ]
     },
     "execution_count": 139,
     "metadata": {},
     "output_type": "execute_result"
    }
   ],
   "source": [
    "mat59 = sio.loadmat('HS_SL_SG_02/2019_06_12/20190612144257.mat')\n",
    "Qtotal59 = mat59['Summary']['Total_Q']\n",
    "Qtotal59 = Qtotal59[0][0][-1][0]\n",
    "Qtotal59"
   ]
  },
  {
   "cell_type": "code",
   "execution_count": 140,
   "id": "accbe1c2",
   "metadata": {},
   "outputs": [
    {
     "data": {
      "text/plain": [
       "120.23922250311637"
      ]
     },
     "execution_count": 140,
     "metadata": {},
     "output_type": "execute_result"
    }
   ],
   "source": [
    "mat60 = sio.loadmat('HS_SL_SG_02/2019_06_12/20190612144645.mat')\n",
    "Qtotal60 = mat60['Summary']['Total_Q']\n",
    "Qtotal60 = Qtotal60[0][0][-1][0]\n",
    "Qtotal60"
   ]
  },
  {
   "cell_type": "code",
   "execution_count": 141,
   "id": "fed0b14b",
   "metadata": {},
   "outputs": [
    {
     "data": {
      "text/plain": [
       "121.43345416768129"
      ]
     },
     "execution_count": 141,
     "metadata": {},
     "output_type": "execute_result"
    }
   ],
   "source": [
    "mat61 = sio.loadmat('HS_SL_SG_02/2019_06_12/20190612144945.mat')\n",
    "Qtotal61 = mat61['Summary']['Total_Q']\n",
    "Qtotal61 = Qtotal61[0][0][-1][0]\n",
    "Qtotal61"
   ]
  },
  {
   "cell_type": "code",
   "execution_count": 143,
   "id": "94b52d74",
   "metadata": {},
   "outputs": [
    {
     "data": {
      "text/plain": [
       "117.64275893542072"
      ]
     },
     "execution_count": 143,
     "metadata": {},
     "output_type": "execute_result"
    }
   ],
   "source": [
    "mat62 = sio.loadmat('HS_SL_SG_02/2019_06_12/20190612145241.mat')\n",
    "Qtotal62 = mat62['Summary']['Total_Q']\n",
    "Qtotal62 = Qtotal62[0][0][-1][0]\n",
    "Qtotal62"
   ]
  },
  {
   "cell_type": "code",
   "execution_count": 144,
   "id": "af166890",
   "metadata": {},
   "outputs": [
    {
     "data": {
      "text/plain": [
       "104.58874457385738"
      ]
     },
     "execution_count": 144,
     "metadata": {},
     "output_type": "execute_result"
    }
   ],
   "source": [
    "mat63 = sio.loadmat('HS_SL_SG_02/2019_06_12/20190612145529.mat')\n",
    "Qtotal63 = mat63['Summary']['Total_Q']\n",
    "Qtotal63 = Qtotal63[0][0][-1][0]\n",
    "Qtotal63"
   ]
  },
  {
   "cell_type": "markdown",
   "id": "26ff1066",
   "metadata": {},
   "source": [
    "__26-06-2019__"
   ]
  },
  {
   "cell_type": "code",
   "execution_count": 145,
   "id": "a6139b9c",
   "metadata": {},
   "outputs": [
    {
     "data": {
      "text/plain": [
       "817.4304472274501"
      ]
     },
     "execution_count": 145,
     "metadata": {},
     "output_type": "execute_result"
    }
   ],
   "source": [
    "mat64 = sio.loadmat('HS_SL_SG_02/2019_06_26/20190626111752.mat')\n",
    "Qtotal64 = mat64['Summary']['Total_Q']\n",
    "Qtotal64 = Qtotal64[0][0][-1][0]\n",
    "Qtotal64"
   ]
  },
  {
   "cell_type": "code",
   "execution_count": 146,
   "id": "adb16dfc",
   "metadata": {},
   "outputs": [
    {
     "data": {
      "text/plain": [
       "780.4119789460224"
      ]
     },
     "execution_count": 146,
     "metadata": {},
     "output_type": "execute_result"
    }
   ],
   "source": [
    "mat65 = sio.loadmat('HS_SL_SG_02/2019_06_26/20190626112110.mat')\n",
    "Qtotal65 = mat65['Summary']['Total_Q']\n",
    "Qtotal65 = Qtotal65[0][0][-1][0]\n",
    "Qtotal65"
   ]
  },
  {
   "cell_type": "code",
   "execution_count": 150,
   "id": "4374ee77",
   "metadata": {},
   "outputs": [
    {
     "data": {
      "text/plain": [
       "800.7762826786493"
      ]
     },
     "execution_count": 150,
     "metadata": {},
     "output_type": "execute_result"
    }
   ],
   "source": [
    "mat66 = sio.loadmat('HS_SL_SG_02/2019_06_26/20190626112351.mat')\n",
    "Qtotal66 = mat66['Summary']['Total_Q']\n",
    "Qtotal66 = Qtotal66[0][0][-1][0]\n",
    "Qtotal66"
   ]
  },
  {
   "cell_type": "code",
   "execution_count": 151,
   "id": "5361a36e",
   "metadata": {},
   "outputs": [
    {
     "data": {
      "text/plain": [
       "787.5459860446274"
      ]
     },
     "execution_count": 151,
     "metadata": {},
     "output_type": "execute_result"
    }
   ],
   "source": [
    "mat67 = sio.loadmat('HS_SL_SG_02/2019_06_26/20190626112650.mat')\n",
    "Qtotal67 = mat67['Summary']['Total_Q']\n",
    "Qtotal67 = Qtotal67[0][0][-1][0]\n",
    "Qtotal67"
   ]
  },
  {
   "cell_type": "code",
   "execution_count": 152,
   "id": "b82ef445",
   "metadata": {},
   "outputs": [
    {
     "data": {
      "text/plain": [
       "791.4209775512707"
      ]
     },
     "execution_count": 152,
     "metadata": {},
     "output_type": "execute_result"
    }
   ],
   "source": [
    "mat68 = sio.loadmat('HS_SL_SG_02/2019_06_26/20190626113015.mat')\n",
    "Qtotal68 = mat68['Summary']['Total_Q']\n",
    "Qtotal68 = Qtotal68[0][0][-1][0]\n",
    "Qtotal68"
   ]
  },
  {
   "cell_type": "code",
   "execution_count": 154,
   "id": "3cfc2fba",
   "metadata": {},
   "outputs": [
    {
     "data": {
      "text/plain": [
       "810.2328404891166"
      ]
     },
     "execution_count": 154,
     "metadata": {},
     "output_type": "execute_result"
    }
   ],
   "source": [
    "mat69 = sio.loadmat('HS_SL_SG_02/2019_06_26/20190626113300.mat')\n",
    "Qtotal69 = mat69['Summary']['Total_Q']\n",
    "Qtotal69 = Qtotal69[0][0][-1][0]\n",
    "Qtotal69"
   ]
  },
  {
   "cell_type": "markdown",
   "id": "191e114d",
   "metadata": {},
   "source": [
    "__03-07-2019__"
   ]
  },
  {
   "cell_type": "code",
   "execution_count": 156,
   "id": "6ad8e2b3",
   "metadata": {},
   "outputs": [
    {
     "data": {
      "text/plain": [
       "1049.4734607435087"
      ]
     },
     "execution_count": 156,
     "metadata": {},
     "output_type": "execute_result"
    }
   ],
   "source": [
    "mat70 = sio.loadmat('HS_SL_SG_02/2019_07_03/20190703104829.mat')\n",
    "Qtotal70 = mat70['Summary']['Total_Q']\n",
    "Qtotal70 = Qtotal70[0][0][-1][0]\n",
    "Qtotal70"
   ]
  },
  {
   "cell_type": "code",
   "execution_count": 158,
   "id": "6ef9a258",
   "metadata": {},
   "outputs": [
    {
     "data": {
      "text/plain": [
       "1065.5163611521227"
      ]
     },
     "execution_count": 158,
     "metadata": {},
     "output_type": "execute_result"
    }
   ],
   "source": [
    "mat71 = sio.loadmat('HS_SL_SG_02/2019_07_03/20190703105206.mat')\n",
    "Qtotal71 = mat71['Summary']['Total_Q']\n",
    "Qtotal71 = Qtotal71[0][0][-1][0]\n",
    "Qtotal71"
   ]
  },
  {
   "cell_type": "code",
   "execution_count": 159,
   "id": "4bfa6dce",
   "metadata": {},
   "outputs": [
    {
     "data": {
      "text/plain": [
       "1083.6821892629468"
      ]
     },
     "execution_count": 159,
     "metadata": {},
     "output_type": "execute_result"
    }
   ],
   "source": [
    "mat72 = sio.loadmat('HS_SL_SG_02/2019_07_03/20190703105544.mat')\n",
    "Qtotal72 = mat72['Summary']['Total_Q']\n",
    "Qtotal72 = Qtotal72[0][0][-1][0]\n",
    "Qtotal72"
   ]
  },
  {
   "cell_type": "code",
   "execution_count": 160,
   "id": "93ea05a7",
   "metadata": {},
   "outputs": [
    {
     "data": {
      "text/plain": [
       "1071.5628115569202"
      ]
     },
     "execution_count": 160,
     "metadata": {},
     "output_type": "execute_result"
    }
   ],
   "source": [
    "mat73 = sio.loadmat('HS_SL_SG_02/2019_07_03/20190703105815.mat')\n",
    "Qtotal73 = mat73['Summary']['Total_Q']\n",
    "Qtotal73 = Qtotal73[0][0][-1][0]\n",
    "Qtotal73"
   ]
  },
  {
   "cell_type": "code",
   "execution_count": 161,
   "id": "27b83ae6",
   "metadata": {},
   "outputs": [
    {
     "data": {
      "text/plain": [
       "1081.4993607041924"
      ]
     },
     "execution_count": 161,
     "metadata": {},
     "output_type": "execute_result"
    }
   ],
   "source": [
    "mat74 = sio.loadmat('HS_SL_SG_02/2019_07_03/20190703110134.mat')\n",
    "Qtotal74 = mat74['Summary']['Total_Q']\n",
    "Qtotal74 = Qtotal74[0][0][-1][0]\n",
    "Qtotal74"
   ]
  },
  {
   "cell_type": "code",
   "execution_count": 163,
   "id": "ce6dd63c",
   "metadata": {},
   "outputs": [
    {
     "data": {
      "text/plain": [
       "1046.8895908223985"
      ]
     },
     "execution_count": 163,
     "metadata": {},
     "output_type": "execute_result"
    }
   ],
   "source": [
    "mat75 = sio.loadmat('HS_SL_SG_02/2019_07_03/20190703110439.mat')\n",
    "Qtotal75 = mat75['Summary']['Total_Q']\n",
    "Qtotal75 = Qtotal75[0][0][-1][0]\n",
    "Qtotal75"
   ]
  },
  {
   "cell_type": "markdown",
   "id": "e51a3e15",
   "metadata": {},
   "source": []
  }
 ],
 "metadata": {
  "kernelspec": {
   "display_name": "Python 3",
   "language": "python",
   "name": "python3"
  },
  "language_info": {
   "codemirror_mode": {
    "name": "ipython",
    "version": 3
   },
   "file_extension": ".py",
   "mimetype": "text/x-python",
   "name": "python",
   "nbconvert_exporter": "python",
   "pygments_lexer": "ipython3",
   "version": "3.9.5"
  }
 },
 "nbformat": 4,
 "nbformat_minor": 5
}
