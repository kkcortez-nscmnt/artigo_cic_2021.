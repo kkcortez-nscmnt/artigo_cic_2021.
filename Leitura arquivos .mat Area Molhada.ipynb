{
 "cells": [
  {
   "cell_type": "code",
   "execution_count": 2,
   "id": "835d40a4",
   "metadata": {},
   "outputs": [],
   "source": [
    "import numpy as np\n",
    "import matplotlib.pyplot as plt\n",
    "import scipy.io as sio\n",
    "import pandas as pd"
   ]
  },
  {
   "cell_type": "markdown",
   "id": "12d4a841",
   "metadata": {},
   "source": [
    "__13-03-2018__"
   ]
  },
  {
   "cell_type": "code",
   "execution_count": 8,
   "id": "437e952d",
   "metadata": {},
   "outputs": [
    {
     "data": {
      "text/plain": [
       "(1, 1)"
      ]
     },
     "execution_count": 8,
     "metadata": {},
     "output_type": "execute_result"
    }
   ],
   "source": [
    "mat1 = sio.loadmat('20180313181930.mat')\n",
    "areaMolhada1 = mat1['Summary']['Area']#[0][0][0][0]\n",
    "areaMolhada1.shape\n"
   ]
  },
  {
   "cell_type": "code",
   "execution_count": null,
   "id": "23a35819",
   "metadata": {},
   "outputs": [],
   "source": []
  }
 ],
 "metadata": {
  "kernelspec": {
   "display_name": "Python 3",
   "language": "python",
   "name": "python3"
  },
  "language_info": {
   "codemirror_mode": {
    "name": "ipython",
    "version": 3
   },
   "file_extension": ".py",
   "mimetype": "text/x-python",
   "name": "python",
   "nbconvert_exporter": "python",
   "pygments_lexer": "ipython3",
   "version": "3.9.5"
  }
 },
 "nbformat": 4,
 "nbformat_minor": 5
}
